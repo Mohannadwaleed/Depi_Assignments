{
  "nbformat": 4,
  "nbformat_minor": 0,
  "metadata": {
    "colab": {
      "provenance": []
    },
    "kernelspec": {
      "name": "python3",
      "display_name": "Python 3"
    },
    "language_info": {
      "name": "python"
    }
  },
  "cells": [
    {
      "cell_type": "markdown",
      "source": [
        "### Question: Count Vowels in a String\n",
        "\n",
        "**Description:** Write a function named count_vowels that takes a string as an argument and returns the count of vowels (a, e, i, o, u) in the string.\n",
        "\n",
        "The function should be case-insensitive, counting both uppercase and lowercase vowels.\n"
      ],
      "metadata": {
        "id": "bjt5zr8zExtw"
      }
    },
    {
      "cell_type": "code",
      "execution_count": 2,
      "metadata": {
        "id": "RzuVnoTLDH7h"
      },
      "outputs": [],
      "source": [
        "def count_vowels(x):\n",
        "    vowels = \"aeiouAEIOU\"\n",
        "    count = 0\n",
        "    for letter in x :\n",
        "        if letter in vowels:\n",
        "            count+=1\n",
        "    return count"
      ]
    },
    {
      "cell_type": "code",
      "source": [
        "x=input(\"Enter the word you want to check\")\n",
        "print ('The number of vowels in that word is ',count_vowels(x))"
      ],
      "metadata": {
        "colab": {
          "base_uri": "https://localhost:8080/"
        },
        "id": "qwlsfa4aDR4z",
        "outputId": "349f3b6d-2459-4f4d-812f-640554325a10"
      },
      "execution_count": 4,
      "outputs": [
        {
          "output_type": "stream",
          "name": "stdout",
          "text": [
            "Enter the word you want to checkhello world\n",
            "The number of vowels in that word is  3\n"
          ]
        }
      ]
    },
    {
      "cell_type": "markdown",
      "source": [
        "### Question: Find the Maximum Value in a List Using a Function\n",
        "Description: Write a function named find_max that takes a list of integers as an argument and returns the maximum value in the list.\n",
        "\n",
        "Do not use Python’s built-in max() function. The function should handle cases where the list is empty by returning None.\n"
      ],
      "metadata": {
        "id": "cjYpFRT0Ez9E"
      }
    },
    {
      "cell_type": "code",
      "source": [
        "def find_max(numbers):\n",
        "    if not numbers:\n",
        "        return None\n",
        "    max_value = numbers[0]\n",
        "    for number in numbers:\n",
        "        if number > max_value:\n",
        "            max_value = number\n",
        "    return max_value"
      ],
      "metadata": {
        "id": "nT-R9Hr5FBsE"
      },
      "execution_count": 5,
      "outputs": []
    },
    {
      "cell_type": "code",
      "source": [
        "y=input(\"Enter the numbers \")\n",
        "numbers = list(map(int, y.split()))\n",
        "print ('The Maximum number is  ',find_max(numbers))"
      ],
      "metadata": {
        "colab": {
          "base_uri": "https://localhost:8080/"
        },
        "id": "fHt0eec1FWsq",
        "outputId": "1c9697ee-4d55-4b44-84a5-ed6356546fef"
      },
      "execution_count": 10,
      "outputs": [
        {
          "output_type": "stream",
          "name": "stdout",
          "text": [
            "Enter the numbers 55 86 66 99 65 181 223 554\n",
            "The Maximum number is   554\n"
          ]
        }
      ]
    }
  ]
}