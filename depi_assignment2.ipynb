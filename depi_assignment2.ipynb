{
  "nbformat": 4,
  "nbformat_minor": 0,
  "metadata": {
    "colab": {
      "provenance": []
    },
    "kernelspec": {
      "name": "python3",
      "display_name": "Python 3"
    },
    "language_info": {
      "name": "python"
    }
  },
  "cells": [
    {
      "cell_type": "markdown",
      "source": [
        "# **Question 1: Merge and Sort Two Lists (Without Using Built-in sort())**"
      ],
      "metadata": {
        "id": "2wugcCOfQ1eu"
      }
    },
    {
      "cell_type": "code",
      "source": [
        "# Function to merge and sort two lists\n",
        "def merge_and_sort(list1, list2):\n",
        "    merged_list = list1 + list2\n",
        "    for i in range(len(merged_list)):\n",
        "        for j in range(i + 1, len(merged_list)):\n",
        "            if merged_list[i] > merged_list[j]:\n",
        "                # Swap elements\n",
        "                merged_list[i], merged_list[j] = merged_list[j], merged_list[i]\n",
        "    return merged_list\n",
        "\n",
        "# Example usage\n",
        "list1 = [8, 3, 1]\n",
        "list2 = [7, 2, 4]\n",
        "sorted_list = merge_and_sort(list1, list2)\n",
        "print(\"Merged and Sorted List:\", sorted_list)\n"
      ],
      "metadata": {
        "colab": {
          "base_uri": "https://localhost:8080/"
        },
        "id": "MMolAH-sQxWs",
        "outputId": "ca998b6a-76f3-4d33-b6d6-18b715be00a1"
      },
      "execution_count": 1,
      "outputs": [
        {
          "output_type": "stream",
          "name": "stdout",
          "text": [
            "Merged and Sorted List: [1, 2, 3, 4, 7, 8]\n"
          ]
        }
      ]
    },
    {
      "cell_type": "markdown",
      "source": [
        "# **Question 2: Repeat Characters in a String (Without Using if)**\n"
      ],
      "metadata": {
        "id": "BQg2ZNABRC73"
      }
    },
    {
      "cell_type": "code",
      "source": [
        "# Function to repeat characters in a string\n",
        "def repeat_characters(string, n):\n",
        "    repeated_string = ''.join([char * n for char in string])\n",
        "    return repeated_string\n",
        "\n",
        "# Example usage\n",
        "input_string = \"Mohannad\"\n",
        "n = 3\n",
        "result = repeat_characters(input_string, n)\n",
        "print(\"Repeated String:\", result)\n"
      ],
      "metadata": {
        "colab": {
          "base_uri": "https://localhost:8080/"
        },
        "id": "AlxktO4jRNUI",
        "outputId": "ced6610b-578c-4b0d-aa37-eb17451405ab"
      },
      "execution_count": 3,
      "outputs": [
        {
          "output_type": "stream",
          "name": "stdout",
          "text": [
            "Repeated String: MMMooohhhaaannnnnnaaaddd\n"
          ]
        }
      ]
    }
  ]
}